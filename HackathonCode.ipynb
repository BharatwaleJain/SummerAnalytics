{
 "cells": [
  {
   "cell_type": "markdown",
   "id": "fc4598b0",
   "metadata": {
    "papermill": {
     "duration": 0.005159,
     "end_time": "2025-06-12T17:30:49.709964",
     "exception": false,
     "start_time": "2025-06-12T17:30:49.704805",
     "status": "completed"
    },
    "tags": []
   },
   "source": [
    "# Import Modules & Data Files"
   ]
  },
  {
   "cell_type": "code",
   "execution_count": 1,
   "id": "4726f7e5",
   "metadata": {
    "_cell_guid": "b1076dfc-b9ad-4769-8c92-a6c4dae69d19",
    "_uuid": "8f2839f25d086af736a60e9eeb907d3b93b6e0e5",
    "execution": {
     "iopub.execute_input": "2025-06-12T17:30:49.720135Z",
     "iopub.status.busy": "2025-06-12T17:30:49.719731Z",
     "iopub.status.idle": "2025-06-12T17:30:51.775316Z",
     "shell.execute_reply": "2025-06-12T17:30:51.773995Z"
    },
    "papermill": {
     "duration": 2.063632,
     "end_time": "2025-06-12T17:30:51.778004",
     "exception": false,
     "start_time": "2025-06-12T17:30:49.714372",
     "status": "completed"
    },
    "tags": []
   },
   "outputs": [
    {
     "name": "stdout",
     "output_type": "stream",
     "text": [
      "/kaggle/input/summer-analytics-mid-hackathon/hacktest.csv\n",
      "/kaggle/input/summer-analytics-mid-hackathon/hacktrain.csv\n"
     ]
    }
   ],
   "source": [
    "import numpy as np\n",
    "import pandas as pd\n",
    "import os\n",
    "for dirname, _, filenames in os.walk('/kaggle/input'):\n",
    "    for filename in filenames:\n",
    "        print(os.path.join(dirname, filename))"
   ]
  },
  {
   "cell_type": "code",
   "execution_count": 2,
   "id": "758b8d5c",
   "metadata": {
    "execution": {
     "iopub.execute_input": "2025-06-12T17:30:51.789526Z",
     "iopub.status.busy": "2025-06-12T17:30:51.789024Z",
     "iopub.status.idle": "2025-06-12T17:30:51.794594Z",
     "shell.execute_reply": "2025-06-12T17:30:51.793302Z"
    },
    "papermill": {
     "duration": 0.013347,
     "end_time": "2025-06-12T17:30:51.796263",
     "exception": false,
     "start_time": "2025-06-12T17:30:51.782916",
     "status": "completed"
    },
    "tags": []
   },
   "outputs": [],
   "source": [
    "import warnings\n",
    "warnings.filterwarnings('ignore')"
   ]
  },
  {
   "cell_type": "code",
   "execution_count": 3,
   "id": "4126162c",
   "metadata": {
    "execution": {
     "iopub.execute_input": "2025-06-12T17:30:51.808349Z",
     "iopub.status.busy": "2025-06-12T17:30:51.808048Z",
     "iopub.status.idle": "2025-06-12T17:30:53.981865Z",
     "shell.execute_reply": "2025-06-12T17:30:53.980863Z"
    },
    "papermill": {
     "duration": 2.181685,
     "end_time": "2025-06-12T17:30:53.983591",
     "exception": false,
     "start_time": "2025-06-12T17:30:51.801906",
     "status": "completed"
    },
    "tags": []
   },
   "outputs": [],
   "source": [
    "from scipy.signal import savgol_filter\n",
    "from sklearn.preprocessing import StandardScaler, LabelEncoder\n",
    "from sklearn.linear_model import LogisticRegression\n",
    "from sklearn.model_selection import StratifiedKFold, cross_val_score\n",
    "from sklearn.metrics import classification_report, accuracy_score"
   ]
  },
  {
   "cell_type": "code",
   "execution_count": 4,
   "id": "a1393cd4",
   "metadata": {
    "execution": {
     "iopub.execute_input": "2025-06-12T17:30:53.995366Z",
     "iopub.status.busy": "2025-06-12T17:30:53.994906Z",
     "iopub.status.idle": "2025-06-12T17:30:54.107925Z",
     "shell.execute_reply": "2025-06-12T17:30:54.106628Z"
    },
    "papermill": {
     "duration": 0.12044,
     "end_time": "2025-06-12T17:30:54.109739",
     "exception": false,
     "start_time": "2025-06-12T17:30:53.989299",
     "status": "completed"
    },
    "tags": []
   },
   "outputs": [],
   "source": [
    "train_df = pd.read_csv(\"/kaggle/input/summer-analytics-mid-hackathon/hacktrain.csv\")\n",
    "test_df = pd.read_csv(\"/kaggle/input/summer-analytics-mid-hackathon/hacktest.csv\")"
   ]
  },
  {
   "cell_type": "markdown",
   "id": "ad273771",
   "metadata": {
    "papermill": {
     "duration": 0.003954,
     "end_time": "2025-06-12T17:30:54.118170",
     "exception": false,
     "start_time": "2025-06-12T17:30:54.114216",
     "status": "completed"
    },
    "tags": []
   },
   "source": [
    "# NDVI Denoising + Imputation"
   ]
  },
  {
   "cell_type": "code",
   "execution_count": 5,
   "id": "e42df075",
   "metadata": {
    "execution": {
     "iopub.execute_input": "2025-06-12T17:30:54.128586Z",
     "iopub.status.busy": "2025-06-12T17:30:54.128228Z",
     "iopub.status.idle": "2025-06-12T17:30:54.135902Z",
     "shell.execute_reply": "2025-06-12T17:30:54.134984Z"
    },
    "papermill": {
     "duration": 0.014792,
     "end_time": "2025-06-12T17:30:54.137504",
     "exception": false,
     "start_time": "2025-06-12T17:30:54.122712",
     "status": "completed"
    },
    "tags": []
   },
   "outputs": [],
   "source": [
    "def process_ndvi(df, win=5, poly=2):\n",
    "    ndvi_cols = sorted([c for c in df.columns if c.endswith('_N')])\n",
    "    mat = df[ndvi_cols]\n",
    "    def sg_row(row):\n",
    "        filled = row.fillna(row.median()).to_numpy()\n",
    "        w = min(win, len(filled))\n",
    "        if w % 2 == 0:\n",
    "            w -= 1\n",
    "        if w < 3:\n",
    "            return filled\n",
    "        return savgol_filter(filled, w, poly)\n",
    "    filtered = mat.apply(sg_row, axis=1, result_type='expand')\n",
    "    filtered.columns = ndvi_cols\n",
    "    filtered = filtered.ffill(axis=1).bfill(axis=1)\n",
    "    return filtered"
   ]
  },
  {
   "cell_type": "code",
   "execution_count": 6,
   "id": "95cbefd6",
   "metadata": {
    "execution": {
     "iopub.execute_input": "2025-06-12T17:30:54.149811Z",
     "iopub.status.busy": "2025-06-12T17:30:54.149173Z",
     "iopub.status.idle": "2025-06-12T17:30:59.264124Z",
     "shell.execute_reply": "2025-06-12T17:30:59.263137Z"
    },
    "papermill": {
     "duration": 5.122875,
     "end_time": "2025-06-12T17:30:59.266316",
     "exception": false,
     "start_time": "2025-06-12T17:30:54.143441",
     "status": "completed"
    },
    "tags": []
   },
   "outputs": [],
   "source": [
    "train_ndvi = process_ndvi(train_df)"
   ]
  },
  {
   "cell_type": "code",
   "execution_count": 7,
   "id": "111aa840",
   "metadata": {
    "execution": {
     "iopub.execute_input": "2025-06-12T17:30:59.276508Z",
     "iopub.status.busy": "2025-06-12T17:30:59.276147Z",
     "iopub.status.idle": "2025-06-12T17:31:00.909490Z",
     "shell.execute_reply": "2025-06-12T17:31:00.908349Z"
    },
    "papermill": {
     "duration": 1.64027,
     "end_time": "2025-06-12T17:31:00.911078",
     "exception": false,
     "start_time": "2025-06-12T17:30:59.270808",
     "status": "completed"
    },
    "tags": []
   },
   "outputs": [],
   "source": [
    "test_ndvi  = process_ndvi(test_df)"
   ]
  },
  {
   "cell_type": "markdown",
   "id": "5b4322b7",
   "metadata": {
    "papermill": {
     "duration": 0.004563,
     "end_time": "2025-06-12T17:31:00.920174",
     "exception": false,
     "start_time": "2025-06-12T17:31:00.915611",
     "status": "completed"
    },
    "tags": []
   },
   "source": [
    "# Temporal Feature Engineering"
   ]
  },
  {
   "cell_type": "code",
   "execution_count": 8,
   "id": "af63d45f",
   "metadata": {
    "execution": {
     "iopub.execute_input": "2025-06-12T17:31:00.930726Z",
     "iopub.status.busy": "2025-06-12T17:31:00.930228Z",
     "iopub.status.idle": "2025-06-12T17:31:00.936548Z",
     "shell.execute_reply": "2025-06-12T17:31:00.935621Z"
    },
    "papermill": {
     "duration": 0.013636,
     "end_time": "2025-06-12T17:31:00.938052",
     "exception": false,
     "start_time": "2025-06-12T17:31:00.924416",
     "status": "completed"
    },
    "tags": []
   },
   "outputs": [],
   "source": [
    "def create_temporal_features(ndvi_df):\n",
    "    return pd.DataFrame({\n",
    "        'mean_ndvi'    : ndvi_df.mean(axis=1),\n",
    "        'std_ndvi'     : ndvi_df.std(axis=1),\n",
    "        'max_ndvi'     : ndvi_df.max(axis=1),\n",
    "        'min_ndvi'     : ndvi_df.min(axis=1),\n",
    "        'amplitude'    : ndvi_df.max(axis=1) - ndvi_df.min(axis=1),\n",
    "        'median_ndvi'  : ndvi_df.median(axis=1),\n",
    "        'q25_ndvi'     : ndvi_df.quantile(0.25, axis=1),\n",
    "        'q75_ndvi'     : ndvi_df.quantile(0.75, axis=1)\n",
    "    })"
   ]
  },
  {
   "cell_type": "code",
   "execution_count": 9,
   "id": "dd86770c",
   "metadata": {
    "execution": {
     "iopub.execute_input": "2025-06-12T17:31:00.949198Z",
     "iopub.status.busy": "2025-06-12T17:31:00.948422Z",
     "iopub.status.idle": "2025-06-12T17:31:00.988984Z",
     "shell.execute_reply": "2025-06-12T17:31:00.987489Z"
    },
    "papermill": {
     "duration": 0.048235,
     "end_time": "2025-06-12T17:31:00.990964",
     "exception": false,
     "start_time": "2025-06-12T17:31:00.942729",
     "status": "completed"
    },
    "tags": []
   },
   "outputs": [],
   "source": [
    "X_train = create_temporal_features(train_ndvi)"
   ]
  },
  {
   "cell_type": "code",
   "execution_count": 10,
   "id": "ecd04ed5",
   "metadata": {
    "execution": {
     "iopub.execute_input": "2025-06-12T17:31:01.001979Z",
     "iopub.status.busy": "2025-06-12T17:31:01.001610Z",
     "iopub.status.idle": "2025-06-12T17:31:01.022194Z",
     "shell.execute_reply": "2025-06-12T17:31:01.021185Z"
    },
    "papermill": {
     "duration": 0.028771,
     "end_time": "2025-06-12T17:31:01.024606",
     "exception": false,
     "start_time": "2025-06-12T17:31:00.995835",
     "status": "completed"
    },
    "tags": []
   },
   "outputs": [],
   "source": [
    "X_test  = create_temporal_features(test_ndvi)"
   ]
  },
  {
   "cell_type": "markdown",
   "id": "146a3615",
   "metadata": {
    "papermill": {
     "duration": 0.00465,
     "end_time": "2025-06-12T17:31:01.033805",
     "exception": false,
     "start_time": "2025-06-12T17:31:01.029155",
     "status": "completed"
    },
    "tags": []
   },
   "source": [
    "# Encode Labels & Scale Features"
   ]
  },
  {
   "cell_type": "code",
   "execution_count": 11,
   "id": "1a90fde8",
   "metadata": {
    "execution": {
     "iopub.execute_input": "2025-06-12T17:31:01.043824Z",
     "iopub.status.busy": "2025-06-12T17:31:01.043292Z",
     "iopub.status.idle": "2025-06-12T17:31:01.070119Z",
     "shell.execute_reply": "2025-06-12T17:31:01.069002Z"
    },
    "papermill": {
     "duration": 0.033739,
     "end_time": "2025-06-12T17:31:01.071799",
     "exception": false,
     "start_time": "2025-06-12T17:31:01.038060",
     "status": "completed"
    },
    "tags": []
   },
   "outputs": [],
   "source": [
    "le = LabelEncoder()\n",
    "y_train = le.fit_transform(train_df['class'])\n",
    "scaler = StandardScaler()\n",
    "X_train_s = scaler.fit_transform(X_train)\n",
    "X_test_s  = scaler.transform(X_test)"
   ]
  },
  {
   "cell_type": "markdown",
   "id": "bfbd4a88",
   "metadata": {
    "papermill": {
     "duration": 0.003943,
     "end_time": "2025-06-12T17:31:01.080002",
     "exception": false,
     "start_time": "2025-06-12T17:31:01.076059",
     "status": "completed"
    },
    "tags": []
   },
   "source": [
    "# Model Definition + CV + Fit on Training Set"
   ]
  },
  {
   "cell_type": "code",
   "execution_count": 12,
   "id": "dc381bbc",
   "metadata": {
    "execution": {
     "iopub.execute_input": "2025-06-12T17:31:01.090444Z",
     "iopub.status.busy": "2025-06-12T17:31:01.090101Z",
     "iopub.status.idle": "2025-06-12T17:31:01.095588Z",
     "shell.execute_reply": "2025-06-12T17:31:01.094451Z"
    },
    "papermill": {
     "duration": 0.013417,
     "end_time": "2025-06-12T17:31:01.097583",
     "exception": false,
     "start_time": "2025-06-12T17:31:01.084166",
     "status": "completed"
    },
    "tags": []
   },
   "outputs": [],
   "source": [
    "logreg = LogisticRegression(\n",
    "    multi_class='multinomial',\n",
    "    solver='saga',\n",
    "    penalty='elasticnet',\n",
    "    l1_ratio=0.5,\n",
    "    C=0.3,\n",
    "    class_weight='balanced',\n",
    "    max_iter=2000,\n",
    "    n_jobs=-1,\n",
    "    random_state=42\n",
    ")"
   ]
  },
  {
   "cell_type": "code",
   "execution_count": 13,
   "id": "e0bb6e65",
   "metadata": {
    "execution": {
     "iopub.execute_input": "2025-06-12T17:31:01.108098Z",
     "iopub.status.busy": "2025-06-12T17:31:01.107639Z",
     "iopub.status.idle": "2025-06-12T17:31:01.112658Z",
     "shell.execute_reply": "2025-06-12T17:31:01.111645Z"
    },
    "papermill": {
     "duration": 0.012037,
     "end_time": "2025-06-12T17:31:01.114316",
     "exception": false,
     "start_time": "2025-06-12T17:31:01.102279",
     "status": "completed"
    },
    "tags": []
   },
   "outputs": [],
   "source": [
    "cv = StratifiedKFold(n_splits=5, shuffle=True, random_state=42)"
   ]
  },
  {
   "cell_type": "code",
   "execution_count": 14,
   "id": "906ddc02",
   "metadata": {
    "execution": {
     "iopub.execute_input": "2025-06-12T17:31:01.125026Z",
     "iopub.status.busy": "2025-06-12T17:31:01.124703Z",
     "iopub.status.idle": "2025-06-12T17:31:54.591436Z",
     "shell.execute_reply": "2025-06-12T17:31:54.590531Z"
    },
    "papermill": {
     "duration": 53.478746,
     "end_time": "2025-06-12T17:31:54.597498",
     "exception": false,
     "start_time": "2025-06-12T17:31:01.118752",
     "status": "completed"
    },
    "tags": []
   },
   "outputs": [
    {
     "data": {
      "text/plain": [
       "'5-fold CV accuracy: 0.540 ± 0.039'"
      ]
     },
     "execution_count": 14,
     "metadata": {},
     "output_type": "execute_result"
    }
   ],
   "source": [
    "cv_scores = cross_val_score(logreg, X_train_s, y_train, cv=cv, scoring='accuracy')\n",
    "f'5-fold CV accuracy: {cv_scores.mean():.3f} ± {cv_scores.std():.3f}'"
   ]
  },
  {
   "cell_type": "code",
   "execution_count": 15,
   "id": "8a61a131",
   "metadata": {
    "execution": {
     "iopub.execute_input": "2025-06-12T17:31:54.608438Z",
     "iopub.status.busy": "2025-06-12T17:31:54.608095Z",
     "iopub.status.idle": "2025-06-12T17:32:08.149429Z",
     "shell.execute_reply": "2025-06-12T17:32:08.148506Z"
    },
    "papermill": {
     "duration": 13.549122,
     "end_time": "2025-06-12T17:32:08.150951",
     "exception": false,
     "start_time": "2025-06-12T17:31:54.601829",
     "status": "completed"
    },
    "tags": []
   },
   "outputs": [
    {
     "data": {
      "text/html": [
       "<style>#sk-container-id-1 {color: black;background-color: white;}#sk-container-id-1 pre{padding: 0;}#sk-container-id-1 div.sk-toggleable {background-color: white;}#sk-container-id-1 label.sk-toggleable__label {cursor: pointer;display: block;width: 100%;margin-bottom: 0;padding: 0.3em;box-sizing: border-box;text-align: center;}#sk-container-id-1 label.sk-toggleable__label-arrow:before {content: \"▸\";float: left;margin-right: 0.25em;color: #696969;}#sk-container-id-1 label.sk-toggleable__label-arrow:hover:before {color: black;}#sk-container-id-1 div.sk-estimator:hover label.sk-toggleable__label-arrow:before {color: black;}#sk-container-id-1 div.sk-toggleable__content {max-height: 0;max-width: 0;overflow: hidden;text-align: left;background-color: #f0f8ff;}#sk-container-id-1 div.sk-toggleable__content pre {margin: 0.2em;color: black;border-radius: 0.25em;background-color: #f0f8ff;}#sk-container-id-1 input.sk-toggleable__control:checked~div.sk-toggleable__content {max-height: 200px;max-width: 100%;overflow: auto;}#sk-container-id-1 input.sk-toggleable__control:checked~label.sk-toggleable__label-arrow:before {content: \"▾\";}#sk-container-id-1 div.sk-estimator input.sk-toggleable__control:checked~label.sk-toggleable__label {background-color: #d4ebff;}#sk-container-id-1 div.sk-label input.sk-toggleable__control:checked~label.sk-toggleable__label {background-color: #d4ebff;}#sk-container-id-1 input.sk-hidden--visually {border: 0;clip: rect(1px 1px 1px 1px);clip: rect(1px, 1px, 1px, 1px);height: 1px;margin: -1px;overflow: hidden;padding: 0;position: absolute;width: 1px;}#sk-container-id-1 div.sk-estimator {font-family: monospace;background-color: #f0f8ff;border: 1px dotted black;border-radius: 0.25em;box-sizing: border-box;margin-bottom: 0.5em;}#sk-container-id-1 div.sk-estimator:hover {background-color: #d4ebff;}#sk-container-id-1 div.sk-parallel-item::after {content: \"\";width: 100%;border-bottom: 1px solid gray;flex-grow: 1;}#sk-container-id-1 div.sk-label:hover label.sk-toggleable__label {background-color: #d4ebff;}#sk-container-id-1 div.sk-serial::before {content: \"\";position: absolute;border-left: 1px solid gray;box-sizing: border-box;top: 0;bottom: 0;left: 50%;z-index: 0;}#sk-container-id-1 div.sk-serial {display: flex;flex-direction: column;align-items: center;background-color: white;padding-right: 0.2em;padding-left: 0.2em;position: relative;}#sk-container-id-1 div.sk-item {position: relative;z-index: 1;}#sk-container-id-1 div.sk-parallel {display: flex;align-items: stretch;justify-content: center;background-color: white;position: relative;}#sk-container-id-1 div.sk-item::before, #sk-container-id-1 div.sk-parallel-item::before {content: \"\";position: absolute;border-left: 1px solid gray;box-sizing: border-box;top: 0;bottom: 0;left: 50%;z-index: -1;}#sk-container-id-1 div.sk-parallel-item {display: flex;flex-direction: column;z-index: 1;position: relative;background-color: white;}#sk-container-id-1 div.sk-parallel-item:first-child::after {align-self: flex-end;width: 50%;}#sk-container-id-1 div.sk-parallel-item:last-child::after {align-self: flex-start;width: 50%;}#sk-container-id-1 div.sk-parallel-item:only-child::after {width: 0;}#sk-container-id-1 div.sk-dashed-wrapped {border: 1px dashed gray;margin: 0 0.4em 0.5em 0.4em;box-sizing: border-box;padding-bottom: 0.4em;background-color: white;}#sk-container-id-1 div.sk-label label {font-family: monospace;font-weight: bold;display: inline-block;line-height: 1.2em;}#sk-container-id-1 div.sk-label-container {text-align: center;}#sk-container-id-1 div.sk-container {/* jupyter's `normalize.less` sets `[hidden] { display: none; }` but bootstrap.min.css set `[hidden] { display: none !important; }` so we also need the `!important` here to be able to override the default hidden behavior on the sphinx rendered scikit-learn.org. See: https://github.com/scikit-learn/scikit-learn/issues/21755 */display: inline-block !important;position: relative;}#sk-container-id-1 div.sk-text-repr-fallback {display: none;}</style><div id=\"sk-container-id-1\" class=\"sk-top-container\"><div class=\"sk-text-repr-fallback\"><pre>LogisticRegression(C=0.3, class_weight=&#x27;balanced&#x27;, l1_ratio=0.5, max_iter=2000,\n",
       "                   multi_class=&#x27;multinomial&#x27;, n_jobs=-1, penalty=&#x27;elasticnet&#x27;,\n",
       "                   random_state=42, solver=&#x27;saga&#x27;)</pre><b>In a Jupyter environment, please rerun this cell to show the HTML representation or trust the notebook. <br />On GitHub, the HTML representation is unable to render, please try loading this page with nbviewer.org.</b></div><div class=\"sk-container\" hidden><div class=\"sk-item\"><div class=\"sk-estimator sk-toggleable\"><input class=\"sk-toggleable__control sk-hidden--visually\" id=\"sk-estimator-id-1\" type=\"checkbox\" checked><label for=\"sk-estimator-id-1\" class=\"sk-toggleable__label sk-toggleable__label-arrow\">LogisticRegression</label><div class=\"sk-toggleable__content\"><pre>LogisticRegression(C=0.3, class_weight=&#x27;balanced&#x27;, l1_ratio=0.5, max_iter=2000,\n",
       "                   multi_class=&#x27;multinomial&#x27;, n_jobs=-1, penalty=&#x27;elasticnet&#x27;,\n",
       "                   random_state=42, solver=&#x27;saga&#x27;)</pre></div></div></div></div></div>"
      ],
      "text/plain": [
       "LogisticRegression(C=0.3, class_weight='balanced', l1_ratio=0.5, max_iter=2000,\n",
       "                   multi_class='multinomial', n_jobs=-1, penalty='elasticnet',\n",
       "                   random_state=42, solver='saga')"
      ]
     },
     "execution_count": 15,
     "metadata": {},
     "output_type": "execute_result"
    }
   ],
   "source": [
    "logreg.fit(X_train_s, y_train)"
   ]
  },
  {
   "cell_type": "code",
   "execution_count": 16,
   "id": "98b1c24a",
   "metadata": {
    "execution": {
     "iopub.execute_input": "2025-06-12T17:32:08.161824Z",
     "iopub.status.busy": "2025-06-12T17:32:08.161532Z",
     "iopub.status.idle": "2025-06-12T17:32:08.184850Z",
     "shell.execute_reply": "2025-06-12T17:32:08.183989Z"
    },
    "papermill": {
     "duration": 0.030341,
     "end_time": "2025-06-12T17:32:08.186327",
     "exception": false,
     "start_time": "2025-06-12T17:32:08.155986",
     "status": "completed"
    },
    "tags": []
   },
   "outputs": [
    {
     "data": {
      "text/plain": [
       "'              precision    recall  f1-score   support\\n\\n        farm       0.27      0.45      0.33       841\\n      forest       0.95      0.55      0.69      6159\\n       grass       0.10      0.55      0.17       196\\n  impervious       0.84      0.68      0.75       669\\n     orchard       0.01      0.40      0.03        30\\n       water       0.14      0.70      0.24       105\\n\\n    accuracy                           0.55      8000\\n   macro avg       0.39      0.55      0.37      8000\\nweighted avg       0.84      0.55      0.64      8000\\n'"
      ]
     },
     "execution_count": 16,
     "metadata": {},
     "output_type": "execute_result"
    }
   ],
   "source": [
    "classification_report(y_train, logreg.predict(X_train_s), target_names=le.classes_)"
   ]
  },
  {
   "cell_type": "markdown",
   "id": "20beab79",
   "metadata": {
    "papermill": {
     "duration": 0.004405,
     "end_time": "2025-06-12T17:32:08.195491",
     "exception": false,
     "start_time": "2025-06-12T17:32:08.191086",
     "status": "completed"
    },
    "tags": []
   },
   "source": [
    "# Create Submission"
   ]
  },
  {
   "cell_type": "code",
   "execution_count": 17,
   "id": "9124cdc6",
   "metadata": {
    "execution": {
     "iopub.execute_input": "2025-06-12T17:32:08.206516Z",
     "iopub.status.busy": "2025-06-12T17:32:08.206172Z",
     "iopub.status.idle": "2025-06-12T17:32:08.212563Z",
     "shell.execute_reply": "2025-06-12T17:32:08.211540Z"
    },
    "papermill": {
     "duration": 0.01379,
     "end_time": "2025-06-12T17:32:08.214107",
     "exception": false,
     "start_time": "2025-06-12T17:32:08.200317",
     "status": "completed"
    },
    "tags": []
   },
   "outputs": [],
   "source": [
    "test_pred_labels = le.inverse_transform(logreg.predict(X_test_s))\n",
    "submission = pd.DataFrame({\n",
    "    'ID'   : test_df['ID'],\n",
    "    'class': test_pred_labels\n",
    "})"
   ]
  },
  {
   "cell_type": "code",
   "execution_count": 18,
   "id": "bf97d56e",
   "metadata": {
    "execution": {
     "iopub.execute_input": "2025-06-12T17:32:08.224889Z",
     "iopub.status.busy": "2025-06-12T17:32:08.224580Z",
     "iopub.status.idle": "2025-06-12T17:32:08.239451Z",
     "shell.execute_reply": "2025-06-12T17:32:08.238590Z"
    },
    "papermill": {
     "duration": 0.022038,
     "end_time": "2025-06-12T17:32:08.241056",
     "exception": false,
     "start_time": "2025-06-12T17:32:08.219018",
     "status": "completed"
    },
    "tags": []
   },
   "outputs": [],
   "source": [
    "submission.to_csv('submission.csv', index=False)"
   ]
  },
  {
   "cell_type": "code",
   "execution_count": 19,
   "id": "37def490",
   "metadata": {
    "execution": {
     "iopub.execute_input": "2025-06-12T17:32:08.251388Z",
     "iopub.status.busy": "2025-06-12T17:32:08.251083Z",
     "iopub.status.idle": "2025-06-12T17:32:08.271548Z",
     "shell.execute_reply": "2025-06-12T17:32:08.270334Z"
    },
    "papermill": {
     "duration": 0.027481,
     "end_time": "2025-06-12T17:32:08.273247",
     "exception": false,
     "start_time": "2025-06-12T17:32:08.245766",
     "status": "completed"
    },
    "tags": []
   },
   "outputs": [
    {
     "data": {
      "text/html": [
       "<div>\n",
       "<style scoped>\n",
       "    .dataframe tbody tr th:only-of-type {\n",
       "        vertical-align: middle;\n",
       "    }\n",
       "\n",
       "    .dataframe tbody tr th {\n",
       "        vertical-align: top;\n",
       "    }\n",
       "\n",
       "    .dataframe thead th {\n",
       "        text-align: right;\n",
       "    }\n",
       "</style>\n",
       "<table border=\"1\" class=\"dataframe\">\n",
       "  <thead>\n",
       "    <tr style=\"text-align: right;\">\n",
       "      <th></th>\n",
       "      <th>ID</th>\n",
       "      <th>class</th>\n",
       "    </tr>\n",
       "  </thead>\n",
       "  <tbody>\n",
       "    <tr>\n",
       "      <th>0</th>\n",
       "      <td>1</td>\n",
       "      <td>orchard</td>\n",
       "    </tr>\n",
       "    <tr>\n",
       "      <th>1</th>\n",
       "      <td>2</td>\n",
       "      <td>grass</td>\n",
       "    </tr>\n",
       "    <tr>\n",
       "      <th>2</th>\n",
       "      <td>3</td>\n",
       "      <td>forest</td>\n",
       "    </tr>\n",
       "    <tr>\n",
       "      <th>3</th>\n",
       "      <td>4</td>\n",
       "      <td>water</td>\n",
       "    </tr>\n",
       "    <tr>\n",
       "      <th>4</th>\n",
       "      <td>5</td>\n",
       "      <td>forest</td>\n",
       "    </tr>\n",
       "  </tbody>\n",
       "</table>\n",
       "</div>"
      ],
      "text/plain": [
       "   ID    class\n",
       "0   1  orchard\n",
       "1   2    grass\n",
       "2   3   forest\n",
       "3   4    water\n",
       "4   5   forest"
      ]
     },
     "execution_count": 19,
     "metadata": {},
     "output_type": "execute_result"
    }
   ],
   "source": [
    "submission.head()"
   ]
  }
 ],
 "metadata": {
  "kaggle": {
   "accelerator": "none",
   "dataSources": [
    {
     "databundleVersionId": 12585144,
     "sourceId": 104491,
     "sourceType": "competition"
    }
   ],
   "dockerImageVersionId": 31040,
   "isGpuEnabled": false,
   "isInternetEnabled": true,
   "language": "python",
   "sourceType": "notebook"
  },
  "kernelspec": {
   "display_name": "Python 3",
   "language": "python",
   "name": "python3"
  },
  "language_info": {
   "codemirror_mode": {
    "name": "ipython",
    "version": 3
   },
   "file_extension": ".py",
   "mimetype": "text/x-python",
   "name": "python",
   "nbconvert_exporter": "python",
   "pygments_lexer": "ipython3",
   "version": "3.11.11"
  },
  "papermill": {
   "default_parameters": {},
   "duration": 84.504199,
   "end_time": "2025-06-12T17:32:08.998640",
   "environment_variables": {},
   "exception": null,
   "input_path": "__notebook__.ipynb",
   "output_path": "__notebook__.ipynb",
   "parameters": {},
   "start_time": "2025-06-12T17:30:44.494441",
   "version": "2.6.0"
  }
 },
 "nbformat": 4,
 "nbformat_minor": 5
}
